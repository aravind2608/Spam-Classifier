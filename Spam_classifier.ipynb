{
  "nbformat": 4,
  "nbformat_minor": 0,
  "metadata": {
    "colab": {
      "name": "Spam_classifier.ipynb",
      "provenance": [],
      "collapsed_sections": []
    },
    "kernelspec": {
      "name": "python3",
      "display_name": "Python 3"
    }
  },
  "cells": [
    {
      "cell_type": "code",
      "metadata": {
        "id": "bsbP_3Dk7ooL",
        "colab": {
          "base_uri": "https://localhost:8080/"
        },
        "outputId": "9cd27358-6024-459e-9e15-49faba199986"
      },
      "source": [
        "from google.colab import drive\n",
        "drive.mount('/content/drive')"
      ],
      "execution_count": null,
      "outputs": [
        {
          "output_type": "stream",
          "text": [
            "Drive already mounted at /content/drive; to attempt to forcibly remount, call drive.mount(\"/content/drive\", force_remount=True).\n"
          ],
          "name": "stdout"
        }
      ]
    },
    {
      "cell_type": "code",
      "metadata": {
        "id": "QJ3JeLxU8Br4",
        "colab": {
          "base_uri": "https://localhost:8080/"
        },
        "outputId": "db228e15-4fd7-4457-b3cb-90fbe1a5b441"
      },
      "source": [
        "!pip install keras"
      ],
      "execution_count": null,
      "outputs": [
        {
          "output_type": "stream",
          "text": [
            "Requirement already satisfied: keras in /usr/local/lib/python3.6/dist-packages (2.4.3)\n",
            "Requirement already satisfied: pyyaml in /usr/local/lib/python3.6/dist-packages (from keras) (3.13)\n",
            "Requirement already satisfied: numpy>=1.9.1 in /usr/local/lib/python3.6/dist-packages (from keras) (1.18.5)\n",
            "Requirement already satisfied: scipy>=0.14 in /usr/local/lib/python3.6/dist-packages (from keras) (1.4.1)\n",
            "Requirement already satisfied: h5py in /usr/local/lib/python3.6/dist-packages (from keras) (2.10.0)\n",
            "Requirement already satisfied: six in /usr/local/lib/python3.6/dist-packages (from h5py->keras) (1.15.0)\n"
          ],
          "name": "stdout"
        }
      ]
    },
    {
      "cell_type": "code",
      "metadata": {
        "id": "f-jTwbZGpa2i"
      },
      "source": [
        "from tensorflow.keras.layers import Embedding\n",
        "from tensorflow.keras.preprocessing.sequence import pad_sequences\n",
        "from tensorflow.keras.preprocessing.text import one_hot\n",
        "from tensorflow.keras.models import Sequential\n",
        "from tensorflow.keras.layers import LSTM, Dense"
      ],
      "execution_count": null,
      "outputs": []
    },
    {
      "cell_type": "code",
      "metadata": {
        "id": "3svdDvBz8CHt",
        "colab": {
          "base_uri": "https://localhost:8080/"
        },
        "outputId": "19e86c68-7d02-417e-f931-00549c85a08b"
      },
      "source": [
        "voc_size=5000\n",
        "import nltk\n",
        "nltk.download('stopwords')"
      ],
      "execution_count": null,
      "outputs": [
        {
          "output_type": "stream",
          "text": [
            "[nltk_data] Downloading package stopwords to /root/nltk_data...\n",
            "[nltk_data]   Package stopwords is already up-to-date!\n"
          ],
          "name": "stdout"
        },
        {
          "output_type": "execute_result",
          "data": {
            "text/plain": [
              "True"
            ]
          },
          "metadata": {
            "tags": []
          },
          "execution_count": 3
        }
      ]
    },
    {
      "cell_type": "code",
      "metadata": {
        "id": "V46w6uMB8CKB"
      },
      "source": [
        "#Data Cleaning\n",
        "import pandas as pd\n",
        "import numpy as np\n",
        "\n",
        "df=pd.read_csv(\"/content/drive/My Drive/SPAM.csv\")\n",
        "df.dropna(axis=1)\n",
        "X=np.array(df.iloc[:,1])\n",
        "Y=np.array(df.iloc[:,0])\n",
        "\n",
        "import nltk\n",
        "from nltk.stem import PorterStemmer\n",
        "from nltk.corpus import stopwords\n",
        "import re\n",
        "\n",
        "ps=PorterStemmer()\n",
        "corpus=[]\n",
        "for i in range(len(X)):\n",
        "  review=re.sub('^a-zA-Z',' ',X[i])\n",
        "  review=review.lower()\n",
        "  review=review.split()\n",
        "  review=[ps.stem(word) for word in review if word not in set(stopwords.words('english'))]\n",
        "  review=' '.join(review)\n",
        "  corpus.append(review)\n"
      ],
      "execution_count": null,
      "outputs": []
    },
    {
      "cell_type": "code",
      "metadata": {
        "id": "z7ioMDKh8CQ8"
      },
      "source": [
        "from sklearn.feature_extraction.text import CountVectorizer\n",
        "cv=CountVectorizer()\n",
        "x=cv.fit_transform(corpus).toarray() "
      ],
      "execution_count": null,
      "outputs": []
    },
    {
      "cell_type": "code",
      "metadata": {
        "id": "WDYrc9EU8CVK"
      },
      "source": [
        "onehot_repr=[one_hot(words, voc_size) for words in corpus]"
      ],
      "execution_count": null,
      "outputs": []
    },
    {
      "cell_type": "code",
      "metadata": {
        "id": "o2QiUfy58CXD"
      },
      "source": [
        "sent_length=24\n",
        "embedded_docs=pad_sequences(onehot_repr, padding='pre',maxlen=sent_length)"
      ],
      "execution_count": null,
      "outputs": []
    },
    {
      "cell_type": "code",
      "metadata": {
        "id": "I3sGkWGl8CbP"
      },
      "source": [
        "#creating model\n",
        "embedding_features=40\n",
        "model=Sequential()\n",
        "model.add(Embedding(voc_size,embedding_features,input_length=sent_length))\n",
        "model.add(LSTM(100))\n",
        "model.add(Dense(1,activation='sigmoid'))\n",
        "\n",
        "\n",
        "model.compile(loss='binary_crossentropy',optimizer='adam',metrics=['accuracy'])"
      ],
      "execution_count": null,
      "outputs": []
    },
    {
      "cell_type": "code",
      "metadata": {
        "id": "3o0Pxow4P-3-",
        "colab": {
          "base_uri": "https://localhost:8080/"
        },
        "outputId": "707a96bd-83f1-4236-d2ef-0678941b1b79"
      },
      "source": [
        "df['Category'].unique()\n",
        "# Import label encoder \n",
        "from sklearn import preprocessing \n",
        "\n",
        "# label_encoder object knows how to understand word labels. \n",
        "label_encoder = preprocessing.LabelEncoder() \n",
        "\n",
        "# Encode labels in column 'species'. \n",
        "df['Category']= label_encoder.fit_transform(df['Category']) \n",
        "\n",
        "df['Category'].unique() \n",
        "\n",
        "y=np.array(df['Category'])\n",
        "y"
      ],
      "execution_count": null,
      "outputs": [
        {
          "output_type": "execute_result",
          "data": {
            "text/plain": [
              "array([0, 0, 1, ..., 0, 0, 0])"
            ]
          },
          "metadata": {
            "tags": []
          },
          "execution_count": 9
        }
      ]
    },
    {
      "cell_type": "code",
      "metadata": {
        "id": "qOg9Ly5zOYqT"
      },
      "source": [
        "from sklearn.model_selection import train_test_split\n",
        "X_train,Y_train,X_valid,Y_valid=train_test_split(x,y,random_state=40,test_size=0.25)"
      ],
      "execution_count": null,
      "outputs": []
    },
    {
      "cell_type": "code",
      "metadata": {
        "id": "iyPzi1VS8CdQ",
        "colab": {
          "base_uri": "https://localhost:8080/"
        },
        "outputId": "b5f18e3b-4cf7-4e56-be0b-6ff570b0ac2b"
      },
      "source": [
        "model.fit(x, y, batch_size=40, validation_split=0.25, epochs=10)"
      ],
      "execution_count": null,
      "outputs": [
        {
          "output_type": "stream",
          "text": [
            "Epoch 1/10\n",
            "WARNING:tensorflow:Model was constructed with shape (None, 24) for input Tensor(\"embedding_input:0\", shape=(None, 24), dtype=float32), but it was called on an input with incompatible shape (None, 8234).\n",
            "WARNING:tensorflow:Model was constructed with shape (None, 24) for input Tensor(\"embedding_input:0\", shape=(None, 24), dtype=float32), but it was called on an input with incompatible shape (None, 8234).\n",
            "105/105 [==============================] - ETA: 0s - loss: 0.4217 - accuracy: 0.8567 WARNING:tensorflow:Model was constructed with shape (None, 24) for input Tensor(\"embedding_input:0\", shape=(None, 24), dtype=float32), but it was called on an input with incompatible shape (None, 8234).\n",
            "105/105 [==============================] - 1167s 11s/step - loss: 0.4217 - accuracy: 0.8567 - val_loss: 0.3911 - val_accuracy: 0.8693\n",
            "Epoch 2/10\n",
            "105/105 [==============================] - 1322s 13s/step - loss: 0.3982 - accuracy: 0.8648 - val_loss: 0.3880 - val_accuracy: 0.8693\n",
            "Epoch 3/10\n",
            " 51/105 [=============>................] - ETA: 10:47 - loss: 0.3929 - accuracy: 0.8672"
          ],
          "name": "stdout"
        }
      ]
    },
    {
      "cell_type": "code",
      "metadata": {
        "id": "a3UYvWHh8Cg9",
        "colab": {
          "base_uri": "https://localhost:8080/"
        },
        "outputId": "170e6755-62e7-46b9-be8e-d9412459720e"
      },
      "source": [
        "print(len(y))"
      ],
      "execution_count": null,
      "outputs": [
        {
          "output_type": "stream",
          "text": [
            "5572\n"
          ],
          "name": "stdout"
        }
      ]
    },
    {
      "cell_type": "code",
      "metadata": {
        "id": "f-ANlbdJcjUe"
      },
      "source": [
        "import cv2\n",
        "\n",
        "\n"
      ],
      "execution_count": null,
      "outputs": []
    }
  ]
}